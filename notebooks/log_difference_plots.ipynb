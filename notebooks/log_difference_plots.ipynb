{
 "cells": [
  {
   "cell_type": "markdown",
   "metadata": {},
   "source": [
    "# Log Difference Plots\n",
    "**Inset theory here**"
   ]
  },
  {
   "cell_type": "code",
   "execution_count": 212,
   "metadata": {},
   "outputs": [
    {
     "data": {
      "text/html": [
       "<div>\n",
       "<style scoped>\n",
       "    .dataframe tbody tr th:only-of-type {\n",
       "        vertical-align: middle;\n",
       "    }\n",
       "\n",
       "    .dataframe tbody tr th {\n",
       "        vertical-align: top;\n",
       "    }\n",
       "\n",
       "    .dataframe thead th {\n",
       "        text-align: right;\n",
       "    }\n",
       "</style>\n",
       "<table border=\"1\" class=\"dataframe\">\n",
       "  <thead>\n",
       "    <tr style=\"text-align: right;\">\n",
       "      <th></th>\n",
       "      <th>SDD</th>\n",
       "      <th>Intensity</th>\n",
       "      <th>Wave Int</th>\n",
       "      <th>Uterus Thickness</th>\n",
       "      <th>Maternal Wall Thickness</th>\n",
       "      <th>Maternal Hb Concentration</th>\n",
       "      <th>Maternal Saturation</th>\n",
       "      <th>Fetal Hb Concentration</th>\n",
       "      <th>Fetal Saturation</th>\n",
       "    </tr>\n",
       "  </thead>\n",
       "  <tbody>\n",
       "    <tr>\n",
       "      <th>0</th>\n",
       "      <td>10</td>\n",
       "      <td>1.371004e+06</td>\n",
       "      <td>1.0</td>\n",
       "      <td>5.0</td>\n",
       "      <td>6.0</td>\n",
       "      <td>12.0</td>\n",
       "      <td>0.9</td>\n",
       "      <td>0.11</td>\n",
       "      <td>0.1</td>\n",
       "    </tr>\n",
       "    <tr>\n",
       "      <th>1</th>\n",
       "      <td>14</td>\n",
       "      <td>1.339709e+04</td>\n",
       "      <td>1.0</td>\n",
       "      <td>5.0</td>\n",
       "      <td>6.0</td>\n",
       "      <td>12.0</td>\n",
       "      <td>0.9</td>\n",
       "      <td>0.11</td>\n",
       "      <td>0.1</td>\n",
       "    </tr>\n",
       "    <tr>\n",
       "      <th>2</th>\n",
       "      <td>19</td>\n",
       "      <td>1.443702e+02</td>\n",
       "      <td>1.0</td>\n",
       "      <td>5.0</td>\n",
       "      <td>6.0</td>\n",
       "      <td>12.0</td>\n",
       "      <td>0.9</td>\n",
       "      <td>0.11</td>\n",
       "      <td>0.1</td>\n",
       "    </tr>\n",
       "    <tr>\n",
       "      <th>3</th>\n",
       "      <td>23</td>\n",
       "      <td>2.438575e+01</td>\n",
       "      <td>1.0</td>\n",
       "      <td>5.0</td>\n",
       "      <td>6.0</td>\n",
       "      <td>12.0</td>\n",
       "      <td>0.9</td>\n",
       "      <td>0.11</td>\n",
       "      <td>0.1</td>\n",
       "    </tr>\n",
       "    <tr>\n",
       "      <th>4</th>\n",
       "      <td>28</td>\n",
       "      <td>1.060799e+01</td>\n",
       "      <td>1.0</td>\n",
       "      <td>5.0</td>\n",
       "      <td>6.0</td>\n",
       "      <td>12.0</td>\n",
       "      <td>0.9</td>\n",
       "      <td>0.11</td>\n",
       "      <td>0.1</td>\n",
       "    </tr>\n",
       "  </tbody>\n",
       "</table>\n",
       "</div>"
      ],
      "text/plain": [
       "   SDD     Intensity  Wave Int  Uterus Thickness  Maternal Wall Thickness  \\\n",
       "0   10  1.371004e+06       1.0               5.0                      6.0   \n",
       "1   14  1.339709e+04       1.0               5.0                      6.0   \n",
       "2   19  1.443702e+02       1.0               5.0                      6.0   \n",
       "3   23  2.438575e+01       1.0               5.0                      6.0   \n",
       "4   28  1.060799e+01       1.0               5.0                      6.0   \n",
       "\n",
       "   Maternal Hb Concentration  Maternal Saturation  Fetal Hb Concentration  \\\n",
       "0                       12.0                  0.9                    0.11   \n",
       "1                       12.0                  0.9                    0.11   \n",
       "2                       12.0                  0.9                    0.11   \n",
       "3                       12.0                  0.9                    0.11   \n",
       "4                       12.0                  0.9                    0.11   \n",
       "\n",
       "   Fetal Saturation  \n",
       "0               0.1  \n",
       "1               0.1  \n",
       "2               0.1  \n",
       "3               0.1  \n",
       "4               0.1  "
      ]
     },
     "execution_count": 212,
     "metadata": {},
     "output_type": "execute_result"
    }
   ],
   "source": [
    "import pandas as pd\n",
    "import numpy as np\n",
    "import matplotlib.pyplot as plt\n",
    "from pathlib import Path\n",
    "\n",
    "INTENSITY_DATA_PATH = Path('../data/s_based_intensity_low_conc2.pkl')\n",
    "\n",
    "intensity_data = pd.read_pickle(INTENSITY_DATA_PATH)\n",
    "intensity_data.head()"
   ]
  },
  {
   "cell_type": "code",
   "execution_count": 213,
   "metadata": {},
   "outputs": [],
   "source": [
    "# Filter 2 points with 2 different Fetal Hb Conc., everything else remaining fixed\n",
    "RAW_SIM_DATA_PATH = '/home/rraiyan/simulations/tfo_sim/data/raw_dan_iccps_equispace_detector/fa_1_wv_1_sa_0.1_ns_1_ms_2_ut_5.pkl'\n",
    "raw_sim_data = pd.read_pickle(RAW_SIM_DATA_PATH)"
   ]
  },
  {
   "cell_type": "code",
   "execution_count": 214,
   "metadata": {},
   "outputs": [],
   "source": [
    "from inverse_modelling_tfo.tools.name_decoder import decode_extended_filename\n",
    "maternal_wall_thickness, uterus_thickness, wave_int = decode_extended_filename(RAW_SIM_DATA_PATH)\n",
    "\n",
    "intensity_data = intensity_data[(intensity_data['Maternal Wall Thickness'] == maternal_wall_thickness) & (intensity_data['Wave Int'] == wave_int)]"
   ]
  },
  {
   "cell_type": "code",
   "execution_count": 215,
   "metadata": {},
   "outputs": [
    {
     "data": {
      "text/plain": [
       "0.110    2500\n",
       "0.125    2500\n",
       "0.140    2500\n",
       "0.155    2500\n",
       "0.170    2500\n",
       "Name: Fetal Hb Concentration, dtype: int64"
      ]
     },
     "execution_count": 215,
     "metadata": {},
     "output_type": "execute_result"
    }
   ],
   "source": [
    "intensity_data['Fetal Hb Concentration'].value_counts()"
   ]
  },
  {
   "cell_type": "code",
   "execution_count": 216,
   "metadata": {},
   "outputs": [],
   "source": [
    "test = intensity_data.groupby('Fetal Hb Concentration')"
   ]
  },
  {
   "cell_type": "code",
   "execution_count": 217,
   "metadata": {},
   "outputs": [
    {
     "data": {
      "text/plain": [
       "dict_keys([0.11, 0.125, 0.14, 0.15500000000000003, 0.17])"
      ]
     },
     "execution_count": 217,
     "metadata": {},
     "output_type": "execute_result"
    }
   ],
   "source": [
    "test.groups.keys()"
   ]
  },
  {
   "cell_type": "code",
   "execution_count": 218,
   "metadata": {},
   "outputs": [],
   "source": [
    "MATERNAL_Hb = 12.\n",
    "MATERNAL_SAT = 0.9\n",
    "FETAL_SAT = 0.225\n",
    "c1 = intensity_data[(intensity_data[\"Maternal Hb Concentration\"] == MATERNAL_Hb) & (intensity_data[\"Maternal Saturation\"] == MATERNAL_SAT) & (intensity_data[\"Fetal Saturation\"] == FETAL_SAT) & (intensity_data[\"Fetal Hb Concentration\"] == 0.110)]\n",
    "c2 = intensity_data[(intensity_data[\"Maternal Hb Concentration\"] == MATERNAL_Hb) & (intensity_data[\"Maternal Saturation\"] == MATERNAL_SAT) & (intensity_data[\"Fetal Saturation\"] == FETAL_SAT) & (intensity_data[\"Fetal Hb Concentration\"] == 0.125)]\n",
    "c3 = intensity_data[(intensity_data[\"Maternal Hb Concentration\"] == MATERNAL_Hb) & (intensity_data[\"Maternal Saturation\"] == MATERNAL_SAT) & (intensity_data[\"Fetal Saturation\"] == FETAL_SAT) & (intensity_data[\"Fetal Hb Concentration\"] == 0.14)]\n",
    "c4 = intensity_data[(intensity_data[\"Maternal Hb Concentration\"] == MATERNAL_Hb) & (intensity_data[\"Maternal Saturation\"] == MATERNAL_SAT) & (intensity_data[\"Fetal Saturation\"] == FETAL_SAT) & (intensity_data[\"Fetal Hb Concentration\"] == 0.15500000000000003)]\n",
    "c5 = intensity_data[(intensity_data[\"Maternal Hb Concentration\"] == MATERNAL_Hb) & (intensity_data[\"Maternal Saturation\"] == MATERNAL_SAT) & (intensity_data[\"Fetal Saturation\"] == FETAL_SAT) & (intensity_data[\"Fetal Hb Concentration\"] == 0.17)]"
   ]
  },
  {
   "cell_type": "code",
   "execution_count": 219,
   "metadata": {},
   "outputs": [],
   "source": [
    "i1 = c1[\"Intensity\"].to_numpy()\n",
    "i2 = c2[\"Intensity\"].to_numpy()\n",
    "i3 = c3[\"Intensity\"].to_numpy()\n",
    "i4 = c4[\"Intensity\"].to_numpy()\n",
    "i5 = c5[\"Intensity\"].to_numpy()"
   ]
  },
  {
   "cell_type": "code",
   "execution_count": 220,
   "metadata": {},
   "outputs": [],
   "source": [
    "log_diff1 = np.log(i1) - np.log(i2)\n",
    "log_diff2 = np.log(i1) - np.log(i3)\n",
    "log_diff3 = np.log(i1) - np.log(i4)\n",
    "log_diff4 = np.log(i1) - np.log(i5)"
   ]
  },
  {
   "cell_type": "code",
   "execution_count": 221,
   "metadata": {},
   "outputs": [],
   "source": [
    "# raw_sim_data['SDD'] = raw_sim_data['X'] - 100.\n",
    "# raw_sim_data.drop(columns=['X', 'Y', 'Z'], inplace=True)"
   ]
  },
  {
   "cell_type": "code",
   "execution_count": 222,
   "metadata": {},
   "outputs": [],
   "source": [
    "# raw_sim_data['Path'] = raw_sim_data['L1 ppath'] + raw_sim_data['L2 ppath'] + raw_sim_data['L3 ppath'] + raw_sim_data['L4 ppath']"
   ]
  },
  {
   "cell_type": "code",
   "execution_count": 223,
   "metadata": {},
   "outputs": [],
   "source": [
    "# sum_L = raw_sim_data.groupby('SDD')['L4 ppath'].mean()\n",
    "# sum_L = raw_sim_data.groupby('SDD')['Path'].mean()"
   ]
  },
  {
   "cell_type": "code",
   "execution_count": 224,
   "metadata": {},
   "outputs": [],
   "source": [
    "# plt.figure()\n",
    "# plt.plot(sum_L)\n",
    "# plt.ylabel('$\\sum L_4$')\n",
    "# # plt.ylabel(r'$\\mathbb{E}\\{L_4\\}$')\n",
    "# plt.xlabel('SDD (mm)')\n",
    "# plt.show()"
   ]
  },
  {
   "cell_type": "code",
   "execution_count": 225,
   "metadata": {},
   "outputs": [
    {
     "data": {
      "image/png": "[encoded data removed]",
      "text/plain": [
       "<Figure size 640x480 with 1 Axes>"
      ]
     },
     "metadata": {},
     "output_type": "display_data"
    }
   ],
   "source": [
    "# plt.plot(sum_L.index, log_diff/sum_L.values)\n",
    "# plt.plot(sum_L.index, 1/sum_L.to_numpy())\n",
    "plt.figure()\n",
    "plt.plot(log_diff1, label='Diff 1')\n",
    "plt.plot(log_diff2, label='Diff 2')\n",
    "plt.plot(log_diff3, label='Diff 3')\n",
    "plt.plot(log_diff4, label='Diff 4')\n",
    "plt.legend()\n",
    "plt.show()"
   ]
  },
  {
   "cell_type": "markdown",
   "metadata": {},
   "source": [
    "__Remarks__ : This approach disregrads the fundemental theory that we cannot pull a log inside a sum. More specificially,\n",
    "$$\n",
    "log(\\sum x_i) \\neq \\sum(log(x_i))\n",
    "$$\n",
    "Our intensities are made up off sum of intensities of individual photons. Taking the log intensity gives us the term on the left as Log Intensity. "
   ]
  },
  {
   "cell_type": "markdown",
   "metadata": {},
   "source": []
  }
 ],
 "metadata": {
  "kernelspec": {
   "display_name": "cybercat",
   "language": "python",
   "name": "python3"
  },
  "language_info": {
   "codemirror_mode": {
    "name": "ipython",
    "version": 3
   },
   "file_extension": ".py",
   "mimetype": "text/x-python",
   "name": "python",
   "nbconvert_exporter": "python",
   "pygments_lexer": "ipython3",
   "version": "3.8.10"
  },
  "orig_nbformat": 4
 },
 "nbformat": 4,
 "nbformat_minor": 2
}
